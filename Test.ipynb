{
 "cells": [
  {
   "cell_type": "code",
   "execution_count": null,
   "metadata": {},
   "outputs": [
    {
     "name": "stdout",
     "output_type": "stream",
     "text": [
      "El valor es 9\n",
      "9\n"
     ]
    }
   ],
   "source": [
    "from src.FuncionMatematica import FuncionMatematica\n",
    "from src.AnsError import AnsError\n",
    "from src.Rango import Rango\n",
    "\n",
    "inter = Rango(6, 12)\n",
    "res = AnsError.calc_Xr(None,inter)\n",
    "print('El valor es',res)\n",
    "\n",
    "result = AnsError.calc_f(None,lambda x:x**2,10)\n",
    "print(result)"
   ]
  }
 ],
 "metadata": {
  "kernelspec": {
   "display_name": ".venv",
   "language": "python",
   "name": "python3"
  },
  "language_info": {
   "codemirror_mode": {
    "name": "ipython",
    "version": 3
   },
   "file_extension": ".py",
   "mimetype": "text/x-python",
   "name": "python",
   "nbconvert_exporter": "python",
   "pygments_lexer": "ipython3",
   "version": "3.11.2"
  }
 },
 "nbformat": 4,
 "nbformat_minor": 2
}
