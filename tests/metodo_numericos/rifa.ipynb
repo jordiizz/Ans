{
 "cells": [
  {
   "cell_type": "code",
   "execution_count": 1,
   "metadata": {},
   "outputs": [
    {
     "name": "stdout",
     "output_type": "stream",
     "text": [
      "['Enfoque contigencial', 'Enfoque cultural organizacional', 'Enfoque humanista', 'Enfoque estructuralista', 'Enfoque aprendizaje organizacional', 'Enfoque neoinstitucionalista', 'Enfoque sistémico', 'Enfoque clásico']\n",
      "Alejandro -- ['Enfoque contigencial', 'Enfoque aprendizaje organizacional']\n",
      "Ever -- ['Enfoque cultural organizacional', 'Enfoque neoinstitucionalista']\n",
      "Diego -- ['Enfoque humanista', 'Enfoque sistémico']\n",
      "Jordi -- ['Enfoque estructuralista', 'Enfoque clásico']\n"
     ]
    }
   ],
   "source": [
    "import random\n",
    "\n",
    "enfoques = [\"Enfoque clásico\", \"Enfoque humanista\",\n",
    "            \"Enfoque estructuralista\", \"Enfoque sistémico\",\n",
    "            \"Enfoque contigencial\",\"Enfoque cultural organizacional\",\n",
    "            \"Enfoque neoinstitucionalista\", \"Enfoque aprendizaje organizacional\"]\n",
    "\n",
    "personas = [\"Alejandro\",\"Ever\",\"Diego\",\"Jordi\"]\n",
    "\n",
    "reparto = {persona: [] for persona in personas}\n",
    "random.shuffle(enfoques)\n",
    "\n",
    "print(enfoques)\n",
    "\n",
    "for i, enfoque in enumerate(enfoques):\n",
    "    reparto[personas[i % len(personas)]].append(enfoque)\n",
    "\n",
    "for compañero, temas in reparto.items():\n",
    "    print(f\"{compañero} -- {temas}\")\n",
    "\n",
    "\n"
   ]
  },
  {
   "cell_type": "code",
   "execution_count": 34,
   "metadata": {},
   "outputs": [
    {
     "data": {
      "text/plain": [
       "{'Alejandro': 'Método Euler',\n",
       " 'Ever': 'Método Taylor',\n",
       " 'Jordi': 'Método Multipaso',\n",
       " 'Diego': 'Método Runge-Kutta'}"
      ]
     },
     "execution_count": 34,
     "metadata": {},
     "output_type": "execute_result"
    }
   ],
   "source": [
    "import random \n",
    "import numpy\n",
    "\n",
    "metodos_numericos = ['Método Euler', 'Método Runge-Kutta','Método Taylor', 'Método Multipaso']\n",
    "personas = ['Alejandro','Ever', 'Jordi', 'Diego']\n",
    "random.shuffle(metodos_numericos)\n",
    "\n",
    "dist = {persona:metodos_numericos[i] for i,persona in enumerate(personas)}\n",
    "dist\n"
   ]
  }
 ],
 "metadata": {
  "kernelspec": {
   "display_name": "global",
   "language": "python",
   "name": "python3"
  },
  "language_info": {
   "codemirror_mode": {
    "name": "ipython",
    "version": 3
   },
   "file_extension": ".py",
   "mimetype": "text/x-python",
   "name": "python",
   "nbconvert_exporter": "python",
   "pygments_lexer": "ipython3",
   "version": "3.11.2"
  }
 },
 "nbformat": 4,
 "nbformat_minor": 2
}
