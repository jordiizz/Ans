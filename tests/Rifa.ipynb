{
 "cells": [
  {
   "cell_type": "code",
   "execution_count": 4,
   "metadata": {},
   "outputs": [
    {
     "name": "stdout",
     "output_type": "stream",
     "text": [
      "Alejandro -- ['Enfoque neoinstitucionalista', 'Enfoque sistémico']\n",
      "Ever -- ['Enfoque humanista', 'Enfoque cultural organizacional']\n",
      "Diego -- ['Enfoque estructuralista', 'Enfoque contigencial']\n",
      "Jordi -- ['Enfoque clásico', 'Enfoque aprendizaje organizacional']\n"
     ]
    }
   ],
   "source": [
    "import random\n",
    "\n",
    "enfoques = [\"Enfoque clásico\", \"Enfoque humanista\",\n",
    "            \"Enfoque estructuralista\", \"Enfoque sistémico\",\n",
    "            \"Enfoque contigencial\",\"Enfoque cultural organizacional\",\n",
    "            \"Enfoque neoinstitucionalista\", \"Enfoque aprendizaje organizacional\"]\n",
    "\n",
    "personas = [\"Alejandro\",\"Ever\",\"Diego\",\"Jordi\"]\n",
    "\n",
    "reparto = {persona: [] for persona in personas}\n",
    "random.shuffle(enfoques)\n",
    "\n",
    "for i, enfoque in enumerate(enfoques):\n",
    "    reparto[personas[i % len(personas)]].append(enfoque)\n",
    "\n",
    "for compañero, temas in reparto.items():\n",
    "    print(f\"{compañero} -- {temas}\")\n",
    "\n",
    "\n",
    "\n",
    "\n"
   ]
  }
 ],
 "metadata": {
  "kernelspec": {
   "display_name": "env_c1",
   "language": "python",
   "name": "python3"
  },
  "language_info": {
   "codemirror_mode": {
    "name": "ipython",
    "version": 3
   },
   "file_extension": ".py",
   "mimetype": "text/x-python",
   "name": "python",
   "nbconvert_exporter": "python",
   "pygments_lexer": "ipython3",
   "version": "3.11.2"
  }
 },
 "nbformat": 4,
 "nbformat_minor": 2
}
