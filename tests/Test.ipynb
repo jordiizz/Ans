{
 "cells": [
  {
   "cell_type": "code",
   "execution_count": 1,
   "metadata": {},
   "outputs": [
    {
     "name": "stdout",
     "output_type": "stream",
     "text": [
      "Calculo de Xr 9.0\n",
      "El valor de Es  0.05\n",
      "Imagen de la fución -2.950212931632136\n",
      "Valor Xr 0.567138671875 Iteraciones 12\n"
     ]
    }
   ],
   "source": [
    "import sys\n",
    "sys.path.append('..')\n",
    "from src.Rango import Rango\n",
    "from src.AnsError import AnsError\n",
    "import numpy as np\n",
    "\n",
    "ans_error = AnsError()\n",
    "\n",
    "e = np.e\n",
    "inter = Rango(6, 12)\n",
    "result = AnsError.calc_Xr(None,inter)\n",
    "print('Calculo de Xr',result)\n",
    "\n",
    "n = 3\n",
    "Es = ans_error.calc_Es(n)\n",
    "print('El valor de Es ',Es)\n",
    "\n",
    "funcion_ex1 = lambda X:(e**(-X)) - X \n",
    "result = AnsError.calc_f(None,funcion_ex1,3)\n",
    "print('Imagen de la fución',result)\n",
    "\n",
    "#Prueba #1 del método de la bisección\n",
    "range_ex1 = Rango(0,1)\n",
    "cifras_s = 3\n",
    "Xrw = 0\n",
    "Xr_ex1, i = ans_error.biseccion(funcion_ex1,range_ex1,Es,Xrw)\n",
    "print('Valor Xr',Xr_ex1, 'Iteraciones', i)\n"
   ]
  }
 ],
 "metadata": {
  "kernelspec": {
   "display_name": ".venv",
   "language": "python",
   "name": "python3"
  },
  "language_info": {
   "codemirror_mode": {
    "name": "ipython",
    "version": 3
   },
   "file_extension": ".py",
   "mimetype": "text/x-python",
   "name": "python",
   "nbconvert_exporter": "python",
   "pygments_lexer": "ipython3",
   "version": "3.11.2"
  }
 },
 "nbformat": 4,
 "nbformat_minor": 2
}
